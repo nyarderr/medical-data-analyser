import pandas as pd
import seaborn as sns
import matplotlib.pyplot as plt
import numpy as np

# 1
df =  pd.read_csv('medical_examination.csv')

# 2
df['overweight'] = (df['weight'] / ((df['height'] / 100) ** 2) > 25).astype(int)

df_raw = df.copy()

# 3
for col in ['cholesterol', 'gluc']:
    df[col] = df[col].apply(lambda x: 0 if x == 1 else 1)


for col in ['cholesterol', 'gluc', 'active', 'alco', 'smoke']:
    df[col] = df[col].apply(lambda x: 'Good' if x == 0 else 'Bad')

# 4
def draw_cat_plot():
    # 5
    variables = ['active', 'alco', 'cholesterol', 'gluc', 'overweight', 'smoke']
    
    df_cat = df.copy()

    for col in ['cholesterol', 'gluc', 'active', 'alco', 'smoke']:
        df_cat[col] = df_cat[col].apply(lambda x: 'Good' if x == 0 else 'Bad')
    
    df_cat = df.melt(id_vars='cardio',value_vars= variables,
                   var_name='variable', value_name='value')

    # 6
    df_cat = df_cat.groupby(['cardio','variable','value']).size().reset_index(name='total')
    

    # 7
    fig= sns.catplot(
    data=df_cat,
    kind='bar',
    x='variable',
    y='total',
    hue='value',
    col='cardio',
    height=5,
    aspect=1)

    fig.set_axis_labels("variable", "total")
    fig._legend.set_title("value")

    # 8
    fig = fig.figure

    # 9
    fig.savefig('catplot.png')
    return fig


# 10
def draw_heat_map():
    # 11
    
    df = df_raw
    df_heat = df[~((df['ap_lo'] <= df['ap_hi']) | (df['height']< df['height'].quantile(0.025)) | (df['height'] > df['height'].quantile(0.975)) | (df['weight'] < df['weight'].quantile(0.025)) | (df['weight'] > df['weight'].quantile(0.975)))]
 
    # 12
    corr = df_heat.corr()

    # 13
    mask = np.triu(np.ones(corr.shape), k=1).astype(bool)

    # 14
    fig, ax = plt.subplots(figsize=(12, 10))

    # 15
    sns.heatmap(
    corr,
    mask=mask,
    annot=True,
    fmt=".1f",
    center=0,
    cmap='coolwarm',
    square=True,
    cbar_kws={"shrink": 0.5},
    linewidths=0.5,
    linecolor='white')

    # 16
    fig.savefig('heatmap.png')
    return fig
